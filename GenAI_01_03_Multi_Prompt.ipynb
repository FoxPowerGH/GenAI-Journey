{
  "cells": [
    {
      "cell_type": "markdown",
      "metadata": {
        "id": "view-in-github",
        "colab_type": "text"
      },
      "source": [
        "<a href=\"https://colab.research.google.com/github/FoxPowerGH/GenAI-Journey/blob/main/GenAI_01_03_Multi_Prompt.ipynb\" target=\"_parent\"><img src=\"https://colab.research.google.com/assets/colab-badge.svg\" alt=\"Open In Colab\"/></a>"
      ]
    },
    {
      "cell_type": "markdown",
      "metadata": {
        "id": "Tce3stUlHN0L"
      },
      "source": [
        "# **Optimización de la Interacción con  un LLM**"
      ]
    },
    {
      "cell_type": "markdown",
      "source": [
        "**Gestión de Solicitudes Múltiples**\n",
        "\n",
        "\n",
        "Tradicionalmente, la generación de código a través de modelos de lenguaje (LLM) se ha basado en el envío de un único mensaje que produce un resultado inmediato. No obstante, una estrategia más efectiva y flexible consiste en adoptar un enfoque conversacional, en el cual el usuario puede interactuar con el modelo para solicitar modificaciones y optimizar la precisión de la respuesta.\n",
        "\n",
        "Este enfoque conversacional permite ajustar gradualmente los resultados, facilitando la producción de soluciones más alineadas con los requerimientos específicos. Sin embargo, en ciertos casos, puede ser ventajoso consolidar la interacción en un único mensaje final que sintetice la conversación previa. Este método no solo mejora la claridad y coherencia del código resultante, sino que también contribuye a su mantenibilidad, al reducir la dependencia de múltiples interacciones intermedias.\n",
        "\n",
        "La elección entre un proceso iterativo o un mensaje unificado debe evaluarse en función de la complejidad del problema y los objetivos del desarrollo, priorizando la eficiencia y la calidad del código generado.\n"
      ],
      "metadata": {
        "id": "LKiq55j9QiMr"
      }
    },
    {
      "cell_type": "markdown",
      "source": [
        "## **Interacción Conversacional con un LLM: Optimización y Mantenibilidad**\n",
        "\n"
      ],
      "metadata": {
        "id": "Aw1x27J-OCBG"
      }
    },
    {
      "cell_type": "markdown",
      "source": [
        "En este módulo, exploraremos cómo aprovechar esta interacción dinámica para solicitar modificaciones y optimizar la calidad de las respuestas producidas por el LLM. Asimismo, analizaremos la posibilidad de consolidar la conversación en un único mensaje final que sintetice el intercambio previo. Este enfoque no solo contribuye a la coherencia del resultado, sino que también facilita la mantenibilidad del código, al reducir la fragmentación del proceso de generación de respuestas."
      ],
      "metadata": {
        "id": "4aITiMzHRGZH"
      }
    },
    {
      "cell_type": "markdown",
      "metadata": {
        "id": "FKwyTRdwB8aW"
      },
      "source": [
        "## **Configuración del Ambiente - Google CoLab**"
      ]
    },
    {
      "cell_type": "code",
      "execution_count": 1,
      "metadata": {
        "id": "RXInneX6xx7c",
        "collapsed": true,
        "colab": {
          "base_uri": "https://localhost:8080/"
        },
        "outputId": "94a1d154-1e78-45f4-9423-37be2f9093f8"
      },
      "outputs": [
        {
          "output_type": "stream",
          "name": "stdout",
          "text": [
            "Note: using Google CoLab\n",
            "Collecting langchain-google-genai\n",
            "  Downloading langchain_google_genai-2.0.9-py3-none-any.whl.metadata (3.6 kB)\n",
            "Collecting filetype<2.0.0,>=1.2.0 (from langchain-google-genai)\n",
            "  Downloading filetype-1.2.0-py2.py3-none-any.whl.metadata (6.5 kB)\n",
            "Requirement already satisfied: google-generativeai<0.9.0,>=0.8.0 in /usr/local/lib/python3.11/dist-packages (from langchain-google-genai) (0.8.4)\n",
            "Requirement already satisfied: langchain-core<0.4.0,>=0.3.27 in /usr/local/lib/python3.11/dist-packages (from langchain-google-genai) (0.3.35)\n",
            "Requirement already satisfied: pydantic<3,>=2 in /usr/local/lib/python3.11/dist-packages (from langchain-google-genai) (2.10.6)\n",
            "Requirement already satisfied: google-ai-generativelanguage==0.6.15 in /usr/local/lib/python3.11/dist-packages (from google-generativeai<0.9.0,>=0.8.0->langchain-google-genai) (0.6.15)\n",
            "Requirement already satisfied: google-api-core in /usr/local/lib/python3.11/dist-packages (from google-generativeai<0.9.0,>=0.8.0->langchain-google-genai) (2.19.2)\n",
            "Requirement already satisfied: google-api-python-client in /usr/local/lib/python3.11/dist-packages (from google-generativeai<0.9.0,>=0.8.0->langchain-google-genai) (2.160.0)\n",
            "Requirement already satisfied: google-auth>=2.15.0 in /usr/local/lib/python3.11/dist-packages (from google-generativeai<0.9.0,>=0.8.0->langchain-google-genai) (2.27.0)\n",
            "Requirement already satisfied: protobuf in /usr/local/lib/python3.11/dist-packages (from google-generativeai<0.9.0,>=0.8.0->langchain-google-genai) (4.25.6)\n",
            "Requirement already satisfied: tqdm in /usr/local/lib/python3.11/dist-packages (from google-generativeai<0.9.0,>=0.8.0->langchain-google-genai) (4.67.1)\n",
            "Requirement already satisfied: typing-extensions in /usr/local/lib/python3.11/dist-packages (from google-generativeai<0.9.0,>=0.8.0->langchain-google-genai) (4.12.2)\n",
            "Requirement already satisfied: proto-plus<2.0.0dev,>=1.22.3 in /usr/local/lib/python3.11/dist-packages (from google-ai-generativelanguage==0.6.15->google-generativeai<0.9.0,>=0.8.0->langchain-google-genai) (1.26.0)\n",
            "Requirement already satisfied: langsmith<0.4,>=0.1.125 in /usr/local/lib/python3.11/dist-packages (from langchain-core<0.4.0,>=0.3.27->langchain-google-genai) (0.3.8)\n",
            "Requirement already satisfied: tenacity!=8.4.0,<10.0.0,>=8.1.0 in /usr/local/lib/python3.11/dist-packages (from langchain-core<0.4.0,>=0.3.27->langchain-google-genai) (9.0.0)\n",
            "Requirement already satisfied: jsonpatch<2.0,>=1.33 in /usr/local/lib/python3.11/dist-packages (from langchain-core<0.4.0,>=0.3.27->langchain-google-genai) (1.33)\n",
            "Requirement already satisfied: PyYAML>=5.3 in /usr/local/lib/python3.11/dist-packages (from langchain-core<0.4.0,>=0.3.27->langchain-google-genai) (6.0.2)\n",
            "Requirement already satisfied: packaging<25,>=23.2 in /usr/local/lib/python3.11/dist-packages (from langchain-core<0.4.0,>=0.3.27->langchain-google-genai) (24.2)\n",
            "Requirement already satisfied: annotated-types>=0.6.0 in /usr/local/lib/python3.11/dist-packages (from pydantic<3,>=2->langchain-google-genai) (0.7.0)\n",
            "Requirement already satisfied: pydantic-core==2.27.2 in /usr/local/lib/python3.11/dist-packages (from pydantic<3,>=2->langchain-google-genai) (2.27.2)\n",
            "Requirement already satisfied: googleapis-common-protos<2.0.dev0,>=1.56.2 in /usr/local/lib/python3.11/dist-packages (from google-api-core->google-generativeai<0.9.0,>=0.8.0->langchain-google-genai) (1.67.0)\n",
            "Requirement already satisfied: requests<3.0.0.dev0,>=2.18.0 in /usr/local/lib/python3.11/dist-packages (from google-api-core->google-generativeai<0.9.0,>=0.8.0->langchain-google-genai) (2.32.3)\n",
            "Requirement already satisfied: cachetools<6.0,>=2.0.0 in /usr/local/lib/python3.11/dist-packages (from google-auth>=2.15.0->google-generativeai<0.9.0,>=0.8.0->langchain-google-genai) (5.5.1)\n",
            "Requirement already satisfied: pyasn1-modules>=0.2.1 in /usr/local/lib/python3.11/dist-packages (from google-auth>=2.15.0->google-generativeai<0.9.0,>=0.8.0->langchain-google-genai) (0.4.1)\n",
            "Requirement already satisfied: rsa<5,>=3.1.4 in /usr/local/lib/python3.11/dist-packages (from google-auth>=2.15.0->google-generativeai<0.9.0,>=0.8.0->langchain-google-genai) (4.9)\n",
            "Requirement already satisfied: jsonpointer>=1.9 in /usr/local/lib/python3.11/dist-packages (from jsonpatch<2.0,>=1.33->langchain-core<0.4.0,>=0.3.27->langchain-google-genai) (3.0.0)\n",
            "Requirement already satisfied: httpx<1,>=0.23.0 in /usr/local/lib/python3.11/dist-packages (from langsmith<0.4,>=0.1.125->langchain-core<0.4.0,>=0.3.27->langchain-google-genai) (0.28.1)\n",
            "Requirement already satisfied: orjson<4.0.0,>=3.9.14 in /usr/local/lib/python3.11/dist-packages (from langsmith<0.4,>=0.1.125->langchain-core<0.4.0,>=0.3.27->langchain-google-genai) (3.10.15)\n",
            "Requirement already satisfied: requests-toolbelt<2.0.0,>=1.0.0 in /usr/local/lib/python3.11/dist-packages (from langsmith<0.4,>=0.1.125->langchain-core<0.4.0,>=0.3.27->langchain-google-genai) (1.0.0)\n",
            "Requirement already satisfied: zstandard<0.24.0,>=0.23.0 in /usr/local/lib/python3.11/dist-packages (from langsmith<0.4,>=0.1.125->langchain-core<0.4.0,>=0.3.27->langchain-google-genai) (0.23.0)\n",
            "Requirement already satisfied: httplib2<1.dev0,>=0.19.0 in /usr/local/lib/python3.11/dist-packages (from google-api-python-client->google-generativeai<0.9.0,>=0.8.0->langchain-google-genai) (0.22.0)\n",
            "Requirement already satisfied: google-auth-httplib2<1.0.0,>=0.2.0 in /usr/local/lib/python3.11/dist-packages (from google-api-python-client->google-generativeai<0.9.0,>=0.8.0->langchain-google-genai) (0.2.0)\n",
            "Requirement already satisfied: uritemplate<5,>=3.0.1 in /usr/local/lib/python3.11/dist-packages (from google-api-python-client->google-generativeai<0.9.0,>=0.8.0->langchain-google-genai) (4.1.1)\n",
            "Requirement already satisfied: grpcio<2.0dev,>=1.33.2 in /usr/local/lib/python3.11/dist-packages (from google-api-core[grpc]!=2.0.*,!=2.1.*,!=2.10.*,!=2.2.*,!=2.3.*,!=2.4.*,!=2.5.*,!=2.6.*,!=2.7.*,!=2.8.*,!=2.9.*,<3.0.0dev,>=1.34.1->google-ai-generativelanguage==0.6.15->google-generativeai<0.9.0,>=0.8.0->langchain-google-genai) (1.70.0)\n",
            "Requirement already satisfied: grpcio-status<2.0.dev0,>=1.33.2 in /usr/local/lib/python3.11/dist-packages (from google-api-core[grpc]!=2.0.*,!=2.1.*,!=2.10.*,!=2.2.*,!=2.3.*,!=2.4.*,!=2.5.*,!=2.6.*,!=2.7.*,!=2.8.*,!=2.9.*,<3.0.0dev,>=1.34.1->google-ai-generativelanguage==0.6.15->google-generativeai<0.9.0,>=0.8.0->langchain-google-genai) (1.62.3)\n",
            "Requirement already satisfied: pyparsing!=3.0.0,!=3.0.1,!=3.0.2,!=3.0.3,<4,>=2.4.2 in /usr/local/lib/python3.11/dist-packages (from httplib2<1.dev0,>=0.19.0->google-api-python-client->google-generativeai<0.9.0,>=0.8.0->langchain-google-genai) (3.2.1)\n",
            "Requirement already satisfied: anyio in /usr/local/lib/python3.11/dist-packages (from httpx<1,>=0.23.0->langsmith<0.4,>=0.1.125->langchain-core<0.4.0,>=0.3.27->langchain-google-genai) (3.7.1)\n",
            "Requirement already satisfied: certifi in /usr/local/lib/python3.11/dist-packages (from httpx<1,>=0.23.0->langsmith<0.4,>=0.1.125->langchain-core<0.4.0,>=0.3.27->langchain-google-genai) (2025.1.31)\n",
            "Requirement already satisfied: httpcore==1.* in /usr/local/lib/python3.11/dist-packages (from httpx<1,>=0.23.0->langsmith<0.4,>=0.1.125->langchain-core<0.4.0,>=0.3.27->langchain-google-genai) (1.0.7)\n",
            "Requirement already satisfied: idna in /usr/local/lib/python3.11/dist-packages (from httpx<1,>=0.23.0->langsmith<0.4,>=0.1.125->langchain-core<0.4.0,>=0.3.27->langchain-google-genai) (3.10)\n",
            "Requirement already satisfied: h11<0.15,>=0.13 in /usr/local/lib/python3.11/dist-packages (from httpcore==1.*->httpx<1,>=0.23.0->langsmith<0.4,>=0.1.125->langchain-core<0.4.0,>=0.3.27->langchain-google-genai) (0.14.0)\n",
            "Requirement already satisfied: pyasn1<0.7.0,>=0.4.6 in /usr/local/lib/python3.11/dist-packages (from pyasn1-modules>=0.2.1->google-auth>=2.15.0->google-generativeai<0.9.0,>=0.8.0->langchain-google-genai) (0.6.1)\n",
            "Requirement already satisfied: charset-normalizer<4,>=2 in /usr/local/lib/python3.11/dist-packages (from requests<3.0.0.dev0,>=2.18.0->google-api-core->google-generativeai<0.9.0,>=0.8.0->langchain-google-genai) (3.4.1)\n",
            "Requirement already satisfied: urllib3<3,>=1.21.1 in /usr/local/lib/python3.11/dist-packages (from requests<3.0.0.dev0,>=2.18.0->google-api-core->google-generativeai<0.9.0,>=0.8.0->langchain-google-genai) (2.3.0)\n",
            "Requirement already satisfied: sniffio>=1.1 in /usr/local/lib/python3.11/dist-packages (from anyio->httpx<1,>=0.23.0->langsmith<0.4,>=0.1.125->langchain-core<0.4.0,>=0.3.27->langchain-google-genai) (1.3.1)\n",
            "Downloading langchain_google_genai-2.0.9-py3-none-any.whl (41 kB)\n",
            "\u001b[2K   \u001b[90m━━━━━━━━━━━━━━━━━━━━━━━━━━━━━━━━━━━━━━━━\u001b[0m \u001b[32m41.7/41.7 kB\u001b[0m \u001b[31m2.3 MB/s\u001b[0m eta \u001b[36m0:00:00\u001b[0m\n",
            "\u001b[?25hDownloading filetype-1.2.0-py2.py3-none-any.whl (19 kB)\n",
            "Installing collected packages: filetype, langchain-google-genai\n",
            "Successfully installed filetype-1.2.0 langchain-google-genai-2.0.9\n"
          ]
        }
      ],
      "source": [
        "import os\n",
        "\n",
        "try:\n",
        "    from google.colab import drive, userdata\n",
        "    COLAB = True\n",
        "    print(\"Note: using Google CoLab\")\n",
        "except:\n",
        "    print(\"Note: not using Google CoLab\")\n",
        "    COLAB = False\n",
        "\n",
        "# GoogleAI Secrets\n",
        "if COLAB:\n",
        "    os.environ[\"GOOGLE_API_KEY\"] = userdata.get('GOOGLE_API_KEY')\n",
        "    os.environ[\"SYSTEM_INSTRUCTION\"] = userdata.get('SYSTEM_INSTRUCTION')\n",
        "\n",
        "# Instalo las librerías requeridas en CoLab\n",
        "if COLAB:\n",
        "    #!pip install langchain langchain_openai\n",
        "    !pip install -U  langchain-google-genai\n",
        "    !pip install -U -q \"google-generativeai>=0.8.4\""
      ]
    },
    {
      "cell_type": "markdown",
      "source": [
        "## **Veamos el resultado de esta consulta a nuestro LLM**"
      ],
      "metadata": {
        "id": "co-B61CiX1Gk"
      }
    },
    {
      "cell_type": "code",
      "source": [
        "# Definimos las librerías con las que vamos a trabajar\n",
        "from langchain_google_genai import ChatGoogleGenerativeAI\n",
        "from langchain.chains import ConversationChain\n",
        "from langchain.memory import ConversationBufferWindowMemory\n",
        "from langchain_core.prompts.chat import PromptTemplate, ChatPromptTemplate\n",
        "from langchain.schema import HumanMessage, AIMessage\n",
        "from IPython.display import display_markdown\n",
        "\n",
        "TEMPLATE = \"\"\"La siguiente es una conversación amigable entre un humano y una IA para generar\n",
        "código en Python. Si tienes notas sobre el código, colócalas antes del código. Cualquier nota\n",
        "sobre la ejecución debe ir después del código. Si mezclas notas con el código, conviértelas\n",
        "en comentarios.\n",
        "Asegúrate de agregar comentarios adecuados dentro del código, ordenar los imports y seguir el formato PEP-8.\n",
        "\n",
        "Current conversation:\n",
        "{history}\n",
        "Human: {input}\n",
        "Code Assistant:\"\"\"\n",
        "\n",
        "PROMPT_TEMPLATE = PromptTemplate(input_variables=[\"history\", \"input\"], template=TEMPLATE)\n",
        "\n",
        "\n",
        "def start_conversation():\n",
        "    # Realizamos la consulta al modelo LLM con la API key\n",
        "    llm =  ChatGoogleGenerativeAI(\n",
        "      model=\"gemini-1.5-flash\",\n",
        "      temperature= 0.0,\n",
        "      max_tokens= 1024)\n",
        "\n",
        "    # Inicializamos memory and conversation\n",
        "    memory = ConversationBufferWindowMemory()\n",
        "    conversation = ConversationChain(\n",
        "        prompt=PROMPT_TEMPLATE,\n",
        "        llm=llm,\n",
        "        memory=memory,\n",
        "        verbose=False\n",
        "    )\n",
        "\n",
        "    return conversation\n",
        "\n",
        "def generate_code(conversation, prompt):\n",
        "    print(\"Model response:\")\n",
        "    output = conversation.invoke(prompt)\n",
        "    display_markdown(output['response'], raw=True)"
      ],
      "metadata": {
        "id": "JZSG4xbM9HCc",
        "collapsed": true
      },
      "execution_count": 6,
      "outputs": []
    },
    {
      "cell_type": "code",
      "source": [
        "# Respuesta del Modelo LLM\n",
        "conversation = start_conversation()\n",
        "generate_code(conversation, \"\"\"Escribir un programa en Python,una función para calcular el interes de un plazo fijo.  Capital inicial, años e interes enviar como parametros.\"\"\")\n"
      ],
      "metadata": {
        "colab": {
          "base_uri": "https://localhost:8080/",
          "height": 916
        },
        "id": "rqyE7Adg7Ogl",
        "outputId": "0fcebfe3-97b2-42ee-823d-e9e488d31476"
      },
      "execution_count": 7,
      "outputs": [
        {
          "output_type": "stream",
          "name": "stdout",
          "text": [
            "Model response:\n"
          ]
        },
        {
          "output_type": "display_data",
          "data": {
            "text/markdown": "Notas:\n\nLa función `calcular_interes` calcula el interés simple ganado en un plazo fijo.  Asume un interés anual simple y no considera intereses compuestos.  Los parámetros son:\n\n* `capital_inicial`: El monto inicial invertido.\n* `años`: El número de años que dura el plazo fijo.\n* `interes`: La tasa de interés anual (expresada como decimal, ej. 5% = 0.05).\n\nLa función retorna el interés ganado.  Se incluye manejo de errores para entradas inválidas.\n\n\n```python\nimport sys\n\ndef calcular_interes(capital_inicial, años, interes):\n    \"\"\"\n    Calcula el interés simple ganado en un plazo fijo.\n\n    Args:\n        capital_inicial: El monto inicial invertido (debe ser un número positivo).\n        años: El número de años que dura el plazo fijo (debe ser un número positivo).\n        interes: La tasa de interés anual (debe ser un número entre 0 y 1).\n\n    Returns:\n        El interés ganado.  Retorna None si hay un error en los parámetros de entrada.\n    \"\"\"\n    # Validación de entradas\n    if not all(isinstance(arg, (int, float)) and arg > 0 for arg in [capital_inicial, años, interes]):\n        print(\"Error: Todos los parámetros deben ser números positivos.\", file=sys.stderr)\n        return None\n    if not 0 <= interes <= 1:\n        print(\"Error: La tasa de interés debe estar entre 0 y 1.\", file=sys.stderr)\n        return None\n\n    # Cálculo del interés simple\n    interes_ganado = capital_inicial * años * interes\n    return interes_ganado\n\n\n# Ejemplo de uso\ncapital = 1000\ntiempo = 3\ntasa = 0.05\n\ninteres_total = calcular_interes(capital, tiempo, tasa)\n\nif interes_total is not None:\n    print(f\"El interés ganado en {tiempo} años con un capital de ${capital} y una tasa del {tasa*100:.2f}% es: ${interes_total:.2f}\")\n\n```\n\nNotas sobre la ejecución:\n\nEl código primero define la función `calcular_interes` con validación de entrada para asegurar que los argumentos sean numéricos y positivos, y que la tasa de interés esté dentro del rango válido. Luego, proporciona un ejemplo de cómo usar la función, mostrando el interés ganado después de 3 años con un capital de 1000 y una tasa de interés del 5%.  Si hay algún error en los parámetros de entrada, se imprimirá un mensaje de error en `stderr` y la función retornará `None`.  El resultado se formatea a dos decimales para una mejor legibilidad."
          },
          "metadata": {}
        }
      ]
    },
    {
      "cell_type": "markdown",
      "source": [
        "## **Solicitamos un cambio al código generado**\n",
        "\n"
      ],
      "metadata": {
        "id": "pejCih3VFOQ3"
      }
    },
    {
      "cell_type": "code",
      "source": [
        "generate_code(conversation, \"\"\"Podría actualizar el programa para utilizar interes compuesto.\"\"\")"
      ],
      "metadata": {
        "colab": {
          "base_uri": "https://localhost:8080/",
          "height": 1000
        },
        "id": "3qkwaloKEKl9",
        "outputId": "77d8316d-ec11-40ae-ad7b-18ae183beffa"
      },
      "execution_count": 8,
      "outputs": [
        {
          "output_type": "stream",
          "name": "stdout",
          "text": [
            "Model response:\n"
          ]
        },
        {
          "output_type": "display_data",
          "data": {
            "text/markdown": "Notas:\n\nLa función `calcular_interes_compuesto` calcula el interés compuesto ganado en un plazo fijo.  Utiliza la fórmula A = P (1 + r/n)^(nt), donde:\n\n* A = el monto final incluyendo interés\n* P = capital inicial\n* r = tasa de interés anual (como decimal)\n* n = número de veces que se capitaliza el interés por año\n* t = número de años\n\nLa función retorna el interés ganado. Se incluye manejo de errores para entradas inválidas.  Se asume una capitalización anual (n=1) si no se especifica.\n\n\n```python\nimport sys\n\ndef calcular_interes_compuesto(capital_inicial, años, interes, n=1):\n    \"\"\"\n    Calcula el interés compuesto ganado en un plazo fijo.\n\n    Args:\n        capital_inicial: El monto inicial invertido (debe ser un número positivo).\n        años: El número de años que dura el plazo fijo (debe ser un número positivo).\n        interes: La tasa de interés anual (debe ser un número entre 0 y 1).\n        n: El número de veces que se capitaliza el interés por año (default 1, anual).\n\n    Returns:\n        El interés ganado. Retorna None si hay un error en los parámetros de entrada.\n    \"\"\"\n    # Validación de entradas\n    if not all(isinstance(arg, (int, float)) and arg > 0 for arg in [capital_inicial, años, interes, n]):\n        print(\"Error: Todos los parámetros deben ser números positivos.\", file=sys.stderr)\n        return None\n    if not 0 <= interes <= 1:\n        print(\"Error: La tasa de interés debe estar entre 0 y 1.\", file=sys.stderr)\n        return None\n\n    # Cálculo del interés compuesto\n    monto_final = capital_inicial * (1 + interes / n)**(n * años)\n    interes_ganado = monto_final - capital_inicial\n    return interes_ganado\n\n\n# Ejemplo de uso con interés compuesto\ncapital = 1000\ntiempo = 3\ntasa = 0.05\n\ninteres_total_compuesto = calcular_interes_compuesto(capital, tiempo, tasa)\ninteres_total_compuesto_mensual = calcular_interes_compuesto(capital, tiempo, tasa, 12) #Capitalización mensual\n\nif interes_total_compuesto is not None:\n    print(f\"El interés compuesto ganado en {tiempo} años con un capital de ${capital} y una tasa del {tasa*100:.2f}% (anual) es: ${interes_total_compuesto:.2f}\")\n\nif interes_total_compuesto_mensual is not None:\n    print(f\"El interés compuesto ganado en {tiempo} años con un capital de ${capital} y una tasa del {tasa*100:.2f}% (mensual) es: ${interes_total_compuesto_mensual:.2f}\")\n\n```\n\nNotas sobre la ejecución:\n\nEl código actualizado define la función `calcular_interes_compuesto`, que calcula el interés compuesto utilizando la fórmula correcta.  Incluye un parámetro opcional `n` para especificar la frecuencia de capitalización (por defecto es anual, n=1).  El ejemplo de uso ahora muestra tanto el interés compuesto anual como mensual.  La validación de entrada sigue siendo la misma, asegurando que los argumentos sean válidos antes de realizar el cálculo.  Los resultados se muestran formateados a dos decimales."
          },
          "metadata": {}
        }
      ]
    },
    {
      "cell_type": "markdown",
      "source": [
        "## **Solictamos un segundo cambio al código generado**"
      ],
      "metadata": {
        "id": "FjvqBUysNnGz"
      }
    },
    {
      "cell_type": "code",
      "source": [
        "generate_code(conversation, \"\"\"Podría actualizar el programa para que considere aportaciones mensuales.\"\"\")"
      ],
      "metadata": {
        "colab": {
          "base_uri": "https://localhost:8080/",
          "height": 1000
        },
        "id": "-EOnjSJ4G-hp",
        "outputId": "d34cc745-a16e-413d-c9a5-7f66d4eb1c9f"
      },
      "execution_count": 9,
      "outputs": [
        {
          "output_type": "stream",
          "name": "stdout",
          "text": [
            "Model response:\n"
          ]
        },
        {
          "output_type": "display_data",
          "data": {
            "text/markdown": "Notas:\n\nLa función `calcular_interes_compuesto_con_aportaciones` calcula el interés compuesto considerando aportaciones mensuales adicionales.  Utiliza un bucle para iterar sobre cada mes, calculando el interés y añadiendo la aportación mensual. La fórmula básica de interés compuesto se aplica en cada iteración.\n\n```python\nimport sys\n\ndef calcular_interes_compuesto_con_aportaciones(capital_inicial, años, interes, aportacion_mensual, n=12):\n    \"\"\"\n    Calcula el interés compuesto con aportaciones mensuales adicionales.\n\n    Args:\n        capital_inicial: El monto inicial invertido (debe ser un número positivo).\n        años: El número de años que dura el plazo fijo (debe ser un número positivo).\n        interes: La tasa de interés anual (debe ser un número entre 0 y 1).\n        aportacion_mensual: La aportación mensual (debe ser un número positivo o cero).\n        n: El número de veces que se capitaliza el interés por año (default 12, mensual).\n\n    Returns:\n        El interés ganado. Retorna None si hay un error en los parámetros de entrada.\n    \"\"\"\n    # Validación de entradas\n    if not all(isinstance(arg, (int, float)) and arg >= 0 for arg in [capital_inicial, años, interes, aportacion_mensual, n]):\n        print(\"Error: Todos los parámetros deben ser números no negativos.\", file=sys.stderr)\n        return None\n    if not 0 <= interes <= 1:\n        print(\"Error: La tasa de interés debe estar entre 0 y 1.\", file=sys.stderr)\n        return None\n\n    # Cálculo del interés compuesto con aportaciones mensuales\n    meses = años * n\n    monto_actual = capital_inicial\n    for _ in range(int(meses)):\n        monto_actual *= (1 + interes / n)  # Interés ganado\n        monto_actual += aportacion_mensual  # Aportación mensual\n\n    interes_ganado = monto_actual - capital_inicial - (aportacion_mensual * meses)\n    return interes_ganado\n\n\n# Ejemplo de uso con interés compuesto y aportaciones mensuales\ncapital = 1000\ntiempo = 3\ntasa = 0.05\naportacion = 100\n\ninteres_total_compuesto_con_aportaciones = calcular_interes_compuesto_con_aportaciones(capital, tiempo, tasa, aportacion)\n\nif interes_total_compuesto_con_aportaciones is not None:\n    print(f\"El interés compuesto ganado en {tiempo} años con un capital de ${capital}, una tasa del {tasa*100:.2f}% (mensual) y una aportación mensual de ${aportacion} es: ${interes_total_compuesto_con_aportaciones:.2f}\")\n\n```\n\nNotas sobre la ejecución:\n\nEl código actualizado define la función `calcular_interes_compuesto_con_aportaciones`, que calcula el interés compuesto considerando aportaciones mensuales.  Se itera mes a mes, aplicando la fórmula de interés compuesto y sumando la aportación mensual.  El ejemplo de uso muestra cómo calcular el interés con una aportación mensual de $100. La validación de entrada se ha actualizado para permitir aportaciones mensuales iguales a cero.  El resultado se muestra formateado a dos decimales.  Se asume una capitalización mensual (n=12) por defecto."
          },
          "metadata": {}
        }
      ]
    },
    {
      "cell_type": "markdown",
      "source": [
        "## **Probamos el programa generado por el LLM**"
      ],
      "metadata": {
        "id": "3zrGwVN-LwS_"
      }
    },
    {
      "cell_type": "code",
      "source": [
        "import sys\n",
        "\n",
        "def calcular_interes_compuesto_con_aportaciones(capital_inicial, años, interes, aportacion_mensual):\n",
        "    \"\"\"\n",
        "    Calcula el interés compuesto ganado en un plazo fijo con aportaciones mensuales.\n",
        "\n",
        "    Args:\n",
        "        capital_inicial: El capital inicial invertido (debe ser un número positivo).\n",
        "        años: El número de años de la inversión (debe ser un número positivo).\n",
        "        interes: La tasa de interés anual (debe ser un número positivo).\n",
        "        aportacion_mensual: La aportación mensual adicional (debe ser un número positivo o cero).\n",
        "\n",
        "    Returns:\n",
        "        El interés ganado, o None si los parámetros de entrada son inválidos.\n",
        "    \"\"\"\n",
        "    # Validación de parámetros de entrada\n",
        "    if not all(isinstance(arg, (int, float)) and arg >= 0 for arg in [capital_inicial, años, interes, aportacion_mensual]):\n",
        "        print(\"Error: El capital inicial, los años, la tasa de interés y la aportación mensual deben ser números no negativos.\")\n",
        "        return None\n",
        "\n",
        "    # Cálculo del interés compuesto con aportaciones mensuales\n",
        "    meses = int(años * 12)\n",
        "    capital_actual = capital_inicial\n",
        "    aportaciones_totales = 0\n",
        "\n",
        "    for _ in range(meses):\n",
        "        capital_actual += aportacion_mensual\n",
        "        aportaciones_totales += aportacion_mensual\n",
        "        capital_actual *= (1 + interes / (100 * 12)) # Interés mensual\n",
        "\n",
        "    interes_ganado = capital_actual - capital_inicial - aportaciones_totales\n",
        "    return interes_ganado\n",
        "\n",
        "\n",
        "if __name__ == \"__main__\":\n",
        "    try:\n",
        "        capital_inicial = float(input(\"Ingrese el capital inicial: \"))\n",
        "        años = float(input(\"Ingrese el número de años: \"))\n",
        "        interes = float(input(\"Ingrese la tasa de interés anual (%): \"))\n",
        "        aportacion_mensual = float(input(\"Ingrese la aportación mensual: \"))\n",
        "\n",
        "        interes_total = calcular_interes_compuesto_con_aportaciones(capital_inicial, años, interes, aportacion_mensual)\n",
        "\n",
        "        if interes_total is not None:\n",
        "            print(f\"El interés ganado después de {años} años es: {interes_total:.2f}\")\n",
        "\n",
        "    except ValueError:\n",
        "        print(\"Error: Ingrese valores numéricos válidos.\")\n",
        "    except Exception as e:\n",
        "        print(f\"Ocurrió un error inesperado: {e}\")\n",
        "        sys.exit(1)"
      ],
      "metadata": {
        "colab": {
          "base_uri": "https://localhost:8080/"
        },
        "id": "KT766_JbH_FD",
        "outputId": "f5e53fc4-b277-4335-a0b6-9d9ba1ac8ced"
      },
      "execution_count": null,
      "outputs": [
        {
          "output_type": "stream",
          "name": "stdout",
          "text": [
            "Ingrese el capital inicial: 10000\n",
            "Ingrese el número de años: 14\n",
            "Ingrese la tasa de interés anual (%): 8\n",
            "Ingrese la aportación mensual: 300\n",
            "El interés ganado después de 14.0 años es: 63157.66\n"
          ]
        }
      ]
    },
    {
      "cell_type": "markdown",
      "source": [],
      "metadata": {
        "id": "QTho2EXFXjOG"
      }
    }
  ],
  "metadata": {
    "colab": {
      "collapsed_sections": [
        "Tce3stUlHN0L",
        "L3am4U5uz4bj",
        "E7zAD69vE92b"
      ],
      "provenance": [],
      "include_colab_link": true
    },
    "kernelspec": {
      "display_name": "Python 3",
      "name": "python3"
    }
  },
  "nbformat": 4,
  "nbformat_minor": 0
}