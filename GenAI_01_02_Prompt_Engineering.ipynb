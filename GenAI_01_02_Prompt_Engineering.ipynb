{
  "cells": [
    {
      "cell_type": "markdown",
      "metadata": {
        "id": "view-in-github",
        "colab_type": "text"
      },
      "source": [
        "<a href=\"https://colab.research.google.com/github/FoxPowerGH/GenAI-Journey/blob/main/Prompt_Engineering.ipynb\" target=\"_parent\"><img src=\"https://colab.research.google.com/assets/colab-badge.svg\" alt=\"Open In Colab\"/></a>"
      ]
    },
    {
      "cell_type": "markdown",
      "metadata": {
        "id": "Tce3stUlHN0L"
      },
      "source": [
        "# **Prompt Engineering**"
      ]
    },
    {
      "cell_type": "markdown",
      "source": [
        "**Introducción al Prompt Engineering**\n",
        "\n",
        "\n",
        "El Prompt Engineering es la práctica de diseñar instrucciones efectivas para modelos de inteligencia artificial generativa, como ChatGPT, Claude, Google Gemini y otros. Su objetivo es optimizar la interacción con estos modelos para obtener respuestas precisas, relevantes y alineadas con las necesidades del usuario.\n",
        "\n",
        "Un prompt bien estructurado puede incluir **instrucciones claras**, **contexto relevante, datos de entrada y un indicador de salida**, lo que mejora la calidad de las respuestas generadas. Esta técnica es clave en aplicaciones como generación de contenido, asistencia en programación y análisis de datos.\n"
      ],
      "metadata": {
        "id": "LKiq55j9QiMr"
      }
    },
    {
      "cell_type": "markdown",
      "source": [
        "## **Entendiendo el Prompt**\n",
        "\n"
      ],
      "metadata": {
        "id": "Aw1x27J-OCBG"
      }
    },
    {
      "cell_type": "markdown",
      "source": [
        "La mayoría de los prompts constan de las siguientes partes:\n",
        "\n",
        "*   **Instrucciones**: Describen una tarea para el modelo, que puede ser una descripción de la tarea o una instrucción sobre cómo debe ejecutarla.\n",
        "*   **Contexto**: Información externa para guiar al modelo.\n",
        "*   **Datos de entrada**: La información de entrada para la cual queremos obtener una respuesta.\n",
        "*   **Indicador de salida**: Generalmente, la última parte del prompt que especifica cómo debe ser la salida del modelo.\n",
        "\n"
      ],
      "metadata": {
        "id": "4aITiMzHRGZH"
      }
    },
    {
      "cell_type": "markdown",
      "metadata": {
        "id": "FKwyTRdwB8aW"
      },
      "source": [
        "## **Configuración del Ambiente - Google CoLab**"
      ]
    },
    {
      "cell_type": "code",
      "execution_count": 1,
      "metadata": {
        "id": "RXInneX6xx7c",
        "collapsed": true,
        "colab": {
          "base_uri": "https://localhost:8080/"
        },
        "outputId": "34889ea2-e57d-44f1-a14c-0ee5fc9484cf"
      },
      "outputs": [
        {
          "output_type": "stream",
          "name": "stdout",
          "text": [
            "Note: using Google CoLab\n",
            "Requirement already satisfied: langchain-google-genai in /usr/local/lib/python3.11/dist-packages (2.0.9)\n",
            "Requirement already satisfied: filetype<2.0.0,>=1.2.0 in /usr/local/lib/python3.11/dist-packages (from langchain-google-genai) (1.2.0)\n",
            "Requirement already satisfied: google-generativeai<0.9.0,>=0.8.0 in /usr/local/lib/python3.11/dist-packages (from langchain-google-genai) (0.8.4)\n",
            "Requirement already satisfied: langchain-core<0.4.0,>=0.3.27 in /usr/local/lib/python3.11/dist-packages (from langchain-google-genai) (0.3.34)\n",
            "Requirement already satisfied: pydantic<3,>=2 in /usr/local/lib/python3.11/dist-packages (from langchain-google-genai) (2.10.6)\n",
            "Requirement already satisfied: google-ai-generativelanguage==0.6.15 in /usr/local/lib/python3.11/dist-packages (from google-generativeai<0.9.0,>=0.8.0->langchain-google-genai) (0.6.15)\n",
            "Requirement already satisfied: google-api-core in /usr/local/lib/python3.11/dist-packages (from google-generativeai<0.9.0,>=0.8.0->langchain-google-genai) (2.19.2)\n",
            "Requirement already satisfied: google-api-python-client in /usr/local/lib/python3.11/dist-packages (from google-generativeai<0.9.0,>=0.8.0->langchain-google-genai) (2.160.0)\n",
            "Requirement already satisfied: google-auth>=2.15.0 in /usr/local/lib/python3.11/dist-packages (from google-generativeai<0.9.0,>=0.8.0->langchain-google-genai) (2.27.0)\n",
            "Requirement already satisfied: protobuf in /usr/local/lib/python3.11/dist-packages (from google-generativeai<0.9.0,>=0.8.0->langchain-google-genai) (4.25.6)\n",
            "Requirement already satisfied: tqdm in /usr/local/lib/python3.11/dist-packages (from google-generativeai<0.9.0,>=0.8.0->langchain-google-genai) (4.67.1)\n",
            "Requirement already satisfied: typing-extensions in /usr/local/lib/python3.11/dist-packages (from google-generativeai<0.9.0,>=0.8.0->langchain-google-genai) (4.12.2)\n",
            "Requirement already satisfied: proto-plus<2.0.0dev,>=1.22.3 in /usr/local/lib/python3.11/dist-packages (from google-ai-generativelanguage==0.6.15->google-generativeai<0.9.0,>=0.8.0->langchain-google-genai) (1.26.0)\n",
            "Requirement already satisfied: langsmith<0.4,>=0.1.125 in /usr/local/lib/python3.11/dist-packages (from langchain-core<0.4.0,>=0.3.27->langchain-google-genai) (0.3.5)\n",
            "Requirement already satisfied: tenacity!=8.4.0,<10.0.0,>=8.1.0 in /usr/local/lib/python3.11/dist-packages (from langchain-core<0.4.0,>=0.3.27->langchain-google-genai) (9.0.0)\n",
            "Requirement already satisfied: jsonpatch<2.0,>=1.33 in /usr/local/lib/python3.11/dist-packages (from langchain-core<0.4.0,>=0.3.27->langchain-google-genai) (1.33)\n",
            "Requirement already satisfied: PyYAML>=5.3 in /usr/local/lib/python3.11/dist-packages (from langchain-core<0.4.0,>=0.3.27->langchain-google-genai) (6.0.2)\n",
            "Requirement already satisfied: packaging<25,>=23.2 in /usr/local/lib/python3.11/dist-packages (from langchain-core<0.4.0,>=0.3.27->langchain-google-genai) (24.2)\n",
            "Requirement already satisfied: annotated-types>=0.6.0 in /usr/local/lib/python3.11/dist-packages (from pydantic<3,>=2->langchain-google-genai) (0.7.0)\n",
            "Requirement already satisfied: pydantic-core==2.27.2 in /usr/local/lib/python3.11/dist-packages (from pydantic<3,>=2->langchain-google-genai) (2.27.2)\n",
            "Requirement already satisfied: googleapis-common-protos<2.0.dev0,>=1.56.2 in /usr/local/lib/python3.11/dist-packages (from google-api-core->google-generativeai<0.9.0,>=0.8.0->langchain-google-genai) (1.66.0)\n",
            "Requirement already satisfied: requests<3.0.0.dev0,>=2.18.0 in /usr/local/lib/python3.11/dist-packages (from google-api-core->google-generativeai<0.9.0,>=0.8.0->langchain-google-genai) (2.32.3)\n",
            "Requirement already satisfied: cachetools<6.0,>=2.0.0 in /usr/local/lib/python3.11/dist-packages (from google-auth>=2.15.0->google-generativeai<0.9.0,>=0.8.0->langchain-google-genai) (5.5.1)\n",
            "Requirement already satisfied: pyasn1-modules>=0.2.1 in /usr/local/lib/python3.11/dist-packages (from google-auth>=2.15.0->google-generativeai<0.9.0,>=0.8.0->langchain-google-genai) (0.4.1)\n",
            "Requirement already satisfied: rsa<5,>=3.1.4 in /usr/local/lib/python3.11/dist-packages (from google-auth>=2.15.0->google-generativeai<0.9.0,>=0.8.0->langchain-google-genai) (4.9)\n",
            "Requirement already satisfied: jsonpointer>=1.9 in /usr/local/lib/python3.11/dist-packages (from jsonpatch<2.0,>=1.33->langchain-core<0.4.0,>=0.3.27->langchain-google-genai) (3.0.0)\n",
            "Requirement already satisfied: httpx<1,>=0.23.0 in /usr/local/lib/python3.11/dist-packages (from langsmith<0.4,>=0.1.125->langchain-core<0.4.0,>=0.3.27->langchain-google-genai) (0.28.1)\n",
            "Requirement already satisfied: orjson<4.0.0,>=3.9.14 in /usr/local/lib/python3.11/dist-packages (from langsmith<0.4,>=0.1.125->langchain-core<0.4.0,>=0.3.27->langchain-google-genai) (3.10.15)\n",
            "Requirement already satisfied: requests-toolbelt<2.0.0,>=1.0.0 in /usr/local/lib/python3.11/dist-packages (from langsmith<0.4,>=0.1.125->langchain-core<0.4.0,>=0.3.27->langchain-google-genai) (1.0.0)\n",
            "Requirement already satisfied: zstandard<0.24.0,>=0.23.0 in /usr/local/lib/python3.11/dist-packages (from langsmith<0.4,>=0.1.125->langchain-core<0.4.0,>=0.3.27->langchain-google-genai) (0.23.0)\n",
            "Requirement already satisfied: httplib2<1.dev0,>=0.19.0 in /usr/local/lib/python3.11/dist-packages (from google-api-python-client->google-generativeai<0.9.0,>=0.8.0->langchain-google-genai) (0.22.0)\n",
            "Requirement already satisfied: google-auth-httplib2<1.0.0,>=0.2.0 in /usr/local/lib/python3.11/dist-packages (from google-api-python-client->google-generativeai<0.9.0,>=0.8.0->langchain-google-genai) (0.2.0)\n",
            "Requirement already satisfied: uritemplate<5,>=3.0.1 in /usr/local/lib/python3.11/dist-packages (from google-api-python-client->google-generativeai<0.9.0,>=0.8.0->langchain-google-genai) (4.1.1)\n",
            "Requirement already satisfied: grpcio<2.0dev,>=1.33.2 in /usr/local/lib/python3.11/dist-packages (from google-api-core[grpc]!=2.0.*,!=2.1.*,!=2.10.*,!=2.2.*,!=2.3.*,!=2.4.*,!=2.5.*,!=2.6.*,!=2.7.*,!=2.8.*,!=2.9.*,<3.0.0dev,>=1.34.1->google-ai-generativelanguage==0.6.15->google-generativeai<0.9.0,>=0.8.0->langchain-google-genai) (1.70.0)\n",
            "Requirement already satisfied: grpcio-status<2.0.dev0,>=1.33.2 in /usr/local/lib/python3.11/dist-packages (from google-api-core[grpc]!=2.0.*,!=2.1.*,!=2.10.*,!=2.2.*,!=2.3.*,!=2.4.*,!=2.5.*,!=2.6.*,!=2.7.*,!=2.8.*,!=2.9.*,<3.0.0dev,>=1.34.1->google-ai-generativelanguage==0.6.15->google-generativeai<0.9.0,>=0.8.0->langchain-google-genai) (1.62.3)\n",
            "Requirement already satisfied: pyparsing!=3.0.0,!=3.0.1,!=3.0.2,!=3.0.3,<4,>=2.4.2 in /usr/local/lib/python3.11/dist-packages (from httplib2<1.dev0,>=0.19.0->google-api-python-client->google-generativeai<0.9.0,>=0.8.0->langchain-google-genai) (3.2.1)\n",
            "Requirement already satisfied: anyio in /usr/local/lib/python3.11/dist-packages (from httpx<1,>=0.23.0->langsmith<0.4,>=0.1.125->langchain-core<0.4.0,>=0.3.27->langchain-google-genai) (3.7.1)\n",
            "Requirement already satisfied: certifi in /usr/local/lib/python3.11/dist-packages (from httpx<1,>=0.23.0->langsmith<0.4,>=0.1.125->langchain-core<0.4.0,>=0.3.27->langchain-google-genai) (2025.1.31)\n",
            "Requirement already satisfied: httpcore==1.* in /usr/local/lib/python3.11/dist-packages (from httpx<1,>=0.23.0->langsmith<0.4,>=0.1.125->langchain-core<0.4.0,>=0.3.27->langchain-google-genai) (1.0.7)\n",
            "Requirement already satisfied: idna in /usr/local/lib/python3.11/dist-packages (from httpx<1,>=0.23.0->langsmith<0.4,>=0.1.125->langchain-core<0.4.0,>=0.3.27->langchain-google-genai) (3.10)\n",
            "Requirement already satisfied: h11<0.15,>=0.13 in /usr/local/lib/python3.11/dist-packages (from httpcore==1.*->httpx<1,>=0.23.0->langsmith<0.4,>=0.1.125->langchain-core<0.4.0,>=0.3.27->langchain-google-genai) (0.14.0)\n",
            "Requirement already satisfied: pyasn1<0.7.0,>=0.4.6 in /usr/local/lib/python3.11/dist-packages (from pyasn1-modules>=0.2.1->google-auth>=2.15.0->google-generativeai<0.9.0,>=0.8.0->langchain-google-genai) (0.6.1)\n",
            "Requirement already satisfied: charset-normalizer<4,>=2 in /usr/local/lib/python3.11/dist-packages (from requests<3.0.0.dev0,>=2.18.0->google-api-core->google-generativeai<0.9.0,>=0.8.0->langchain-google-genai) (3.4.1)\n",
            "Requirement already satisfied: urllib3<3,>=1.21.1 in /usr/local/lib/python3.11/dist-packages (from requests<3.0.0.dev0,>=2.18.0->google-api-core->google-generativeai<0.9.0,>=0.8.0->langchain-google-genai) (2.3.0)\n",
            "Requirement already satisfied: sniffio>=1.1 in /usr/local/lib/python3.11/dist-packages (from anyio->httpx<1,>=0.23.0->langsmith<0.4,>=0.1.125->langchain-core<0.4.0,>=0.3.27->langchain-google-genai) (1.3.1)\n"
          ]
        }
      ],
      "source": [
        "import os\n",
        "\n",
        "try:\n",
        "    from google.colab import drive, userdata\n",
        "    COLAB = True\n",
        "    print(\"Note: using Google CoLab\")\n",
        "except:\n",
        "    print(\"Note: not using Google CoLab\")\n",
        "    COLAB = False\n",
        "\n",
        "# GoogleAI Secrets\n",
        "if COLAB:\n",
        "    os.environ[\"GOOGLE_API_KEY\"] = userdata.get('GOOGLE_API_KEY')\n",
        "    os.environ[\"SYSTEM_INSTRUCTION\"] = userdata.get('SYSTEM_INSTRUCTION')\n",
        "\n",
        "# Instalo las librerías requeridas en CoLab\n",
        "if COLAB:\n",
        "    #!pip install langchain langchain_openai\n",
        "    !pip install -U  langchain-google-genai\n",
        "    !pip install -U -q \"google-generativeai>=0.8.4\""
      ]
    },
    {
      "cell_type": "markdown",
      "metadata": {
        "id": "9c9d345e9868"
      },
      "source": [
        "<table class=\"tfo-notebook-buttons\" align=\"left\">\n",
        "  <td>\n",
        "    <a target=\"_blank\" href=\"https://ai.google.dev/gemini-api/docs\"><img src=\"https://ai.google.dev/static/site-assets/images/docs/notebook-site-button.png\" height=\"32\" width=\"32\" />Docs on ai.google.dev</a>\n",
        "  </td>\n",
        "  <td>\n",
        "    <a target=\"_blank\" href=\"https://github.com/google-gemini/cookbook/blob/main/quickstarts\"><img src=\"https://www.tensorflow.org/images/GitHub-Mark-32px.png\" />More notebooks in the Cookbook</a>\n",
        "  </td>\n",
        "</table>"
      ]
    },
    {
      "cell_type": "markdown",
      "source": [
        "## **Exploración del Prompt**"
      ],
      "metadata": {
        "id": "lHNjP0x08oMF"
      }
    },
    {
      "cell_type": "markdown",
      "source": [
        "**Analicemos la siguiente consulta a nuestro LLM**\n",
        "\n",
        "\n",
        "> ¿Cómo puedo describir la ISO27001 para una audiencia c-level?\"\n",
        "\n",
        "Analicemos el prompt \"¿Cómo puedo describir la ISO27001 para una audiencia C-Level?\" en función de los cuatro componentes clave:\n",
        "\n",
        "\n",
        "1.   **Instrucciones** ✅\n",
        "\n",
        "        *   Implícitamente, la pregunta indica una solicitud de explicación sobre la ISO 27001 dirigida a una audiencia C-Level.\n",
        "        *   Sin embargo, no especifica detalles sobre el nivel de profundidad o enfoque esperado.\n",
        "\n",
        "\n",
        "2.   **Contexto** ❌\n",
        "        *   No proporciona información adicional que ayude al modelo a comprender el propósito de la explicación ni el nivel de conocimiento previo de la audiencia.\n",
        "        *   Podría beneficiarse de más contexto, como el sector empresarial o el objetivo de la presentación.\n",
        "\n",
        "3.   **Datos de entrada** ✅\n",
        "        *   La norma ISO 27001 es el tema principal y está bien definido en el prompt.\n",
        "        \n",
        "4.   **Indicador de salida** ❌\n",
        "        *   No deja claro en qué formato o extensión debe responder el modelo (por ejemplo, una lista de puntos clave, una breve descripción o una presentación ejecutiva)."
      ],
      "metadata": {
        "id": "KxGSzwEtVH1K"
      }
    },
    {
      "cell_type": "markdown",
      "source": [
        "## **Veamos el resultado de esta consulta a nuetro LLM**"
      ],
      "metadata": {
        "id": "co-B61CiX1Gk"
      }
    },
    {
      "cell_type": "code",
      "source": [
        "# Definimos las librerías con las que vamos a trabajar\n",
        "from langchain_google_genai import ChatGoogleGenerativeAI\n",
        "from langchain_core.messages import HumanMessage, SystemMessage\n",
        "from langchain_core.prompts.chat import (\n",
        "    ChatPromptTemplate,\n",
        "    HumanMessagePromptTemplate,\n",
        "    SystemMessagePromptTemplate,\n",
        ")\n",
        "\n",
        "# Preparamos una conversación de prueba\n",
        "messages = [\n",
        "    SystemMessage(content=\"Eres un asistente útil especializado en Seguridad de la Información\"),\n",
        "    HumanMessage(content=\"¿Cómo puedo describir la ISO27001 para una audiencia c-level?\"),\n",
        "]\n",
        "\n",
        "# Realizamos la consulta al modelo LLM con la API key\n",
        "llm =  ChatGoogleGenerativeAI(\n",
        "  model=\"gemini-1.5-flash\",\n",
        "  temperature= 0.0,\n",
        "  max_tokens= 256)\n",
        "\n",
        "# Respuesta del Modelo LLM\n",
        "print(\"Respuesta del Modelo:\")\n",
        "output = llm.invoke(messages)\n",
        "print(output.content)"
      ],
      "metadata": {
        "colab": {
          "base_uri": "https://localhost:8080/"
        },
        "id": "JZSG4xbM9HCc",
        "outputId": "8b71d855-81a2-40bb-b80c-b2e4be363d9e"
      },
      "execution_count": 20,
      "outputs": [
        {
          "output_type": "stream",
          "name": "stdout",
          "text": [
            "Respuesta del Modelo:\n",
            "Para una audiencia C-level, la descripción de la ISO 27001 debe ser concisa, orientada a los resultados y centrada en el valor empresarial.  Evita el tecnicismo excesivo y concéntrate en los beneficios tangibles.  Aquí te presento varias opciones para describirla, dependiendo del enfoque que quieras destacar:\n",
            "\n",
            "**Opción 1 (Enfoque en la reducción de riesgos):**\n",
            "\n",
            "\"ISO 27001 es un estándar internacionalmente reconocido que nos ayuda a gestionar de forma proactiva los riesgos de seguridad de la información.  Implementamos un Sistema de Gestión de la Seguridad de la Información (SGSI) que identifica, analiza y mitiga las amenazas a nuestros datos, protegiendo nuestra información confidencial, la reputación de la empresa y la confianza de nuestros clientes.  Esto reduce el riesgo de costosas brechas de seguridad, multas regulatorias y daños a la reputación.\"\n",
            "\n",
            "\n",
            "**Opción 2 (Enfoque en la mejora de la confianza y la competitividad):**\n",
            "\n",
            "\"La certificación ISO 27001 demuestra nuestro compromiso con la seguridad de la información y la privacidad de los datos.  Esto refuerza la confianza de nuestros clientes, socios y accion\n"
          ]
        }
      ]
    },
    {
      "cell_type": "markdown",
      "source": [],
      "metadata": {
        "id": "QTho2EXFXjOG"
      }
    },
    {
      "cell_type": "code",
      "source": [
        "# Preparamos una conversación de prueba\n",
        "messages = [\n",
        "    SystemMessage(content=\"Eres un asistente útil especializado en Seguridad de la Información, responde con un tono profesional y argumentativo.\"),\n",
        "    HumanMessage(content=\"Explica en términos simples la importancia de la ISO 27001 para un público C-Level en el sector financiero. La respuesta debe ser breve y enfocada en beneficios estratégicos.\"),\n",
        "]\n",
        "\n",
        "# Realizamos la consulta al modelo LLM con la API key\n",
        "llm =  ChatGoogleGenerativeAI(\n",
        "  model=\"gemini-1.5-flash\",\n",
        "  temperature= 0.0,\n",
        "  max_tokens= 256)\n",
        "\n",
        "# Respuesta del Modelo LLM\n",
        "print(\"Respuesta del Modelo:\")\n",
        "output = llm.invoke(messages)\n",
        "print(output.content)"
      ],
      "metadata": {
        "id": "_xI4fubDUxkH"
      },
      "execution_count": null,
      "outputs": []
    }
  ],
  "metadata": {
    "colab": {
      "collapsed_sections": [
        "Tce3stUlHN0L",
        "L3am4U5uz4bj",
        "E7zAD69vE92b"
      ],
      "provenance": [],
      "include_colab_link": true
    },
    "kernelspec": {
      "display_name": "Python 3",
      "name": "python3"
    }
  },
  "nbformat": 4,
  "nbformat_minor": 0
}
